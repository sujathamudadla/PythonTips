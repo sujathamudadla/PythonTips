{
 "cells": [
  {
   "cell_type": "markdown",
   "metadata": {},
   "source": [
    "Wikipedia module in Python\n"
   ]
  },
  {
   "cell_type": "code",
   "execution_count": 2,
   "metadata": {},
   "outputs": [
    {
     "name": "stdout",
     "output_type": "stream",
     "text": [
      "Collecting wikipedia\n",
      "  Using cached wikipedia-1.4.0-py3-none-any.whl\n",
      "Requirement already satisfied: beautifulsoup4 in c:\\users\\ramesh\\.conda\\envs\\pythonwithtensorflow\\lib\\site-packages (from wikipedia) (4.10.0)\n",
      "Requirement already satisfied: requests<3.0.0,>=2.0.0 in c:\\users\\ramesh\\.conda\\envs\\pythonwithtensorflow\\lib\\site-packages (from wikipedia) (2.26.0)\n",
      "Requirement already satisfied: certifi>=2017.4.17 in c:\\users\\ramesh\\.conda\\envs\\pythonwithtensorflow\\lib\\site-packages (from requests<3.0.0,>=2.0.0->wikipedia) (2021.5.30)\n",
      "Requirement already satisfied: urllib3<1.27,>=1.21.1 in c:\\users\\ramesh\\.conda\\envs\\pythonwithtensorflow\\lib\\site-packages (from requests<3.0.0,>=2.0.0->wikipedia) (1.26.6)\n",
      "Requirement already satisfied: charset-normalizer~=2.0.0 in c:\\users\\ramesh\\.conda\\envs\\pythonwithtensorflow\\lib\\site-packages (from requests<3.0.0,>=2.0.0->wikipedia) (2.0.4)\n",
      "Requirement already satisfied: idna<4,>=2.5 in c:\\users\\ramesh\\.conda\\envs\\pythonwithtensorflow\\lib\\site-packages (from requests<3.0.0,>=2.0.0->wikipedia) (3.2)\n",
      "Requirement already satisfied: soupsieve>1.2 in c:\\users\\ramesh\\.conda\\envs\\pythonwithtensorflow\\lib\\site-packages (from beautifulsoup4->wikipedia) (2.2.1)\n",
      "Installing collected packages: wikipedia\n",
      "Successfully installed wikipedia-1.4.0\n",
      "Note: you may need to restart the kernel to use updated packages.\n"
     ]
    }
   ],
   "source": [
    "pip install wikipedia"
   ]
  },
  {
   "cell_type": "code",
   "execution_count": 3,
   "metadata": {},
   "outputs": [
    {
     "name": "stdout",
     "output_type": "stream",
     "text": [
      "Machine learning (ML) is the study of computer algorithms that can improve automatically through experience and by the use of data. It is seen as a part of artificial intelligence.\n"
     ]
    }
   ],
   "source": [
    "# importing the module\n",
    "import wikipedia\n",
    " \n",
    "# finding result for the search\n",
    "# sentences = 2 refers to numbers of line\n",
    "result = wikipedia.summary(\"machinelearning\", sentences = 2)\n",
    " \n",
    "# printing the result\n",
    "print(result)"
   ]
  },
  {
   "cell_type": "code",
   "execution_count": 4,
   "metadata": {},
   "outputs": [
    {
     "name": "stdout",
     "output_type": "stream",
     "text": [
      "['Geek', 'Geek!', 'The Geek', 'MindGeek', 'Geek show']\n"
     ]
    }
   ],
   "source": [
    "# importing the module\n",
    "import wikipedia\n",
    " \n",
    "# getting suggestions\n",
    "result = wikipedia.search(\"Geek\", results = 5)\n",
    " \n",
    "# printing the result\n",
    "print(result)"
   ]
  },
  {
   "cell_type": "code",
   "execution_count": 5,
   "metadata": {},
   "outputs": [
    {
     "name": "stdout",
     "output_type": "stream",
     "text": [
      "<bound method WikipediaPage.html of <WikipediaPage 'Artificial intelligence'>>\n",
      "artificial intelligence\n",
      "['2001: A Space Odyssey', '2001: A Space Odyssey (film)', '2001: A Space Odyssey (novel)', '3D optical data storage', 'A* search algorithm', 'A.I. Artificial Intelligence', 'A.I. Rising', 'AAAI', 'ACM Computing Classification System', 'AI']\n"
     ]
    }
   ],
   "source": [
    "# importing the module\n",
    "import wikipedia\n",
    " \n",
    "# wikipedia page object is created\n",
    "page_object = wikipedia.page(\"ArtificialIntelligence\")\n",
    " \n",
    "# printing html of page_object\n",
    "print(page_object.html)\n",
    " \n",
    "# printing title\n",
    "print(page_object.original_title)\n",
    " \n",
    "# printing links on that page object\n",
    "print(page_object.links[0:10])"
   ]
  },
  {
   "cell_type": "code",
   "execution_count": 8,
   "metadata": {},
   "outputs": [
    {
     "name": "stdout",
     "output_type": "stream",
     "text": [
      "भारत (आधिकारिक नाम: भारत गणराज्य, अंग्रेज़ी: Republic of India) दक्षिण एशिया में स्थित भारतीय उपमहाद्वीप का सबसे बड़ा देश है। भारत भौगोलिक दृष्टि से विश्व का सातवाँ सबसे बड़ा देश है, जबकि जनसंख्या के दृष्टिकोण से चीन के बाद दूसरा सबसे बड़ा देश है। भारत के पश्चिम में पाकिस्तान, उत्तर-पूर्व में चीन, नेपाल और भूटान, पूर्व में बांग्लादेश और म्यान्मार स्थित हैं। हिन्द महासागर में इसके दक्षिण पश्चिम में मालदीव, दक्षिण में श्रीलंका और दक्षिण-पूर्व में इंडोनेशिया से भारत की सामुद्रिक सीमा लगती है। इसके उत्तर में हिमालय पर्वत तथा दक्षिण में हिन्द महासागर स्थित है। दक्षिण-पूर्व में बंगाल की खाड़ी तथा पश्चिम में अरब सागर है।\n",
      "आधुनिक मानव या होमो सेपियन्स अफ्रीका से भारतीय उपमहाद्वीप में 55,000 साल पहले आये थे।  1,000 वर्ष पहले ये सिंधु नदी के पश्चिमी हिस्से की तरफ बसे हुए थे जहाँ से इन्होने धीरे धीरे पलायन किया और सिंधुघाटी की सभ्यता के रूप में विकसित हुए।  1,200 ईसा पूर्व संस्कृत भाषा सम्पूर्ण भारतीय उपमहाद्वीप में फैली हुए थी और तब तक यहाँ पर हिन्दू धर्म का उद्धव हो चुका था और ऋग्वेद की रचना भी हो चुकी थी।  400 ईसा पूर्व तक आते आते हिन्दू धर्म में जातिवाद देखने को मिल जाता है।  इसी समय बौद्ध एवं जैन धर्म उत्पन्न हो रहे होते हैं।\n",
      "\n",
      "प्रारंभिक राजनीतिक एकत्रीकरण ने गंगा बेसिन में स्थित मौर्य और गुप्त साम्राज्यों को जन्म दिया।\n",
      "\n",
      "उनका समाज विस्तृत सृजनशीलता से भरा हुआ था। प्रारंभिक मध्ययुगीन काल में, ईसाई धर्म, इस्लाम, यहूदी धर्म और पारसी धर्म ने भारत के दक्षिणी और पश्चिमी तटों पर जड़ें जमा लीं। मध्य एशिया से मुस्लिम सेनाओं ने भारत के उत्तरी मैदानों पर लगातार अत्याचार किया, अंततः दिल्ली सल्तनत की स्थापना हुई और उत्तर भारत को मध्यकालीन इस्लाम साम्राज्य में मिला लिया गया।\n",
      " 15 वीं शताब्दी में, विजयनगर साम्राज्य ने दक्षिण भारत में एक लंबे समय तक चलने वाली समग्र हिंदू संस्कृति बनाई। पंजाब में सिख धर्म की स्थापना हुई।  धीरे-धीरे ब्रिटिश ईस्ट इंडिया कंपनी के शासन का विस्तार हुआ, जिसने भारत को औपनिवेशिक अर्थव्यवस्था में बदल दिया तथा अपनी संप्रभुता को भी मजबूत किया। ब्रिटिश राज शासन 1858 में शुरू हुआ। धीरे धीरे एक प्रभावशाली राष्ट्रवादी आंदोलन शुरू हुआ जिसे अहिंसक विरोध के लिए जाना गया और ब्रिटिश शासन को समाप्त करने का प्रमुख कारक बन गया।  1947 में ब्रिटिश भारतीय साम्राज्य को दो स्वतंत्र प्रभुत्वों में विभाजित किया गया, भारतीय अधिराज्य तथा पाकिस्तान अधिराज्य, जिन्हे धर्म के आधार पर विभाजित किया गया। 1950 से भारत एक संघीय गणराज्य है। भारत की जनसंख्या 1951 में 36.1 करोड़ से बढ़कर 2011 में 1.211 करोड़ हो गई। प्रति व्यक्ति आय $64 से बढ़कर $1,498 हो गई और इसकी साक्षरता दर 16.6% से 74% हो गई। भारत एक तेजी से बढ़ती हुई प्रमुख अर्थव्यवस्था और सूचना प्रौद्योगिकी सेवाओं का केंद्र बन गया है।  अंतरिक्ष क्षेत्र में भारत ने उल्लेखनीय तथा अद्वितीय प्रगति की। भारतीय फिल्में, संगीत और आध्यात्मिक शिक्षाएं वैश्विक संस्कृति में विशेष भूमिका निभाती हैं।  भारत ने गरीबी दर को काफी हद तक कम कर दिया है। भारत देश परमाणु बम रखने वाला देश है। कश्मीर तथा भारत-पाकिस्तान और भारत-चीन सीमा पर भारत का पाकिस्तान तथा चीन से विवाद चल रहा है। लैंगिक असमानता, बाल शोषण, बाल कुपोषण, गरीबी, भ्रष्टाचार, प्रदूषण इत्यादि भारत के सामने प्रमुख चुनौतियाँ है। 21.4% क्षेत्र पर वन है। भारत के वन्यजीव, जिन्हें परंपरागत रूप से भारत की संस्कृति में सहिष्णुता के साथ देखा गया है, इन जंगलों और अन्य जगहों पर संरक्षित आवासों में निवास करते हैं।\n"
     ]
    }
   ],
   "source": [
    "# importing the module\n",
    "import wikipedia\n",
    " \n",
    "# setting language to hindi\n",
    "wikipedia.set_lang(\"hi\")\n",
    " \n",
    "# printing the summary\n",
    "print(wikipedia.summary(\"India\"))"
   ]
  },
  {
   "cell_type": "code",
   "execution_count": 6,
   "metadata": {},
   "outputs": [
    {
     "name": "stdout",
     "output_type": "stream",
     "text": [
      "Collecting pyttsx3\n",
      "  Using cached pyttsx3-2.90-py3-none-any.whl (39 kB)\n",
      "Requirement already satisfied: pywin32 in c:\\users\\ramesh\\.conda\\envs\\pythonwithtensorflow\\lib\\site-packages (from pyttsx3) (228)\n",
      "Collecting pypiwin32\n",
      "  Using cached pypiwin32-223-py3-none-any.whl (1.7 kB)\n",
      "Collecting comtypes\n",
      "  Downloading comtypes-1.1.10.tar.gz (145 kB)\n",
      "Building wheels for collected packages: comtypes\n",
      "  Building wheel for comtypes (setup.py): started\n",
      "  Building wheel for comtypes (setup.py): finished with status 'done'\n",
      "  Created wheel for comtypes: filename=comtypes-1.1.10-py3-none-any.whl size=164937 sha256=70774f819e9fce24ea1dbb58d80764ca2f9f203a35f158b5e109569c216b4fcc\n",
      "  Stored in directory: c:\\users\\ramesh\\appdata\\local\\pip\\cache\\wheels\\f2\\e3\\c6\\6ee896408163d443dce88285eeb5b4e824ebc7423293fdc8bf\n",
      "Successfully built comtypes\n",
      "Installing collected packages: pypiwin32, comtypes, pyttsx3\n",
      "Successfully installed comtypes-1.1.10 pypiwin32-223 pyttsx3-2.90\n",
      "Note: you may need to restart the kernel to use updated packages.\n"
     ]
    }
   ],
   "source": [
    "pip install pyttsx3"
   ]
  },
  {
   "cell_type": "code",
   "execution_count": 7,
   "metadata": {},
   "outputs": [
    {
     "name": "stdout",
     "output_type": "stream",
     "text": [
      "Collecting SpeechRecognition\n",
      "  Using cached SpeechRecognition-3.8.1-py2.py3-none-any.whl (32.8 MB)\n",
      "Installing collected packages: SpeechRecognition\n",
      "Successfully installed SpeechRecognition-3.8.1\n",
      "Note: you may need to restart the kernel to use updated packages.\n"
     ]
    }
   ],
   "source": [
    "pip install SpeechRecognition"
   ]
  },
  {
   "cell_type": "code",
   "execution_count": 9,
   "metadata": {},
   "outputs": [
    {
     "name": "stdout",
     "output_type": "stream",
     "text": [
      "Requirement already satisfied: wolframalpha in c:\\users\\ramesh\\.conda\\envs\\pythonwithtensorflow\\lib\\site-packages (5.0.0)\n",
      "Requirement already satisfied: jaraco.context in c:\\users\\ramesh\\.conda\\envs\\pythonwithtensorflow\\lib\\site-packages (from wolframalpha) (4.1.1)\n",
      "Requirement already satisfied: more-itertools in c:\\users\\ramesh\\.conda\\envs\\pythonwithtensorflow\\lib\\site-packages (from wolframalpha) (8.12.0)\n",
      "Requirement already satisfied: xmltodict in c:\\users\\ramesh\\.conda\\envs\\pythonwithtensorflow\\lib\\site-packages (from wolframalpha) (0.12.0)\n",
      "Note: you may need to restart the kernel to use updated packages.\n"
     ]
    }
   ],
   "source": [
    "pip install wolframalpha"
   ]
  },
  {
   "cell_type": "code",
   "execution_count": 10,
   "metadata": {},
   "outputs": [
    {
     "name": "stdout",
     "output_type": "stream",
     "text": [
      "Requirement already satisfied: wikipedia in c:\\users\\ramesh\\.conda\\envs\\pythonwithtensorflow\\lib\\site-packages (1.4.0)\n",
      "Requirement already satisfied: requests<3.0.0,>=2.0.0 in c:\\users\\ramesh\\.conda\\envs\\pythonwithtensorflow\\lib\\site-packages (from wikipedia) (2.26.0)\n",
      "Requirement already satisfied: beautifulsoup4 in c:\\users\\ramesh\\.conda\\envs\\pythonwithtensorflow\\lib\\site-packages (from wikipedia) (4.10.0)\n",
      "Requirement already satisfied: urllib3<1.27,>=1.21.1 in c:\\users\\ramesh\\.conda\\envs\\pythonwithtensorflow\\lib\\site-packages (from requests<3.0.0,>=2.0.0->wikipedia) (1.26.6)\n",
      "Requirement already satisfied: certifi>=2017.4.17 in c:\\users\\ramesh\\.conda\\envs\\pythonwithtensorflow\\lib\\site-packages (from requests<3.0.0,>=2.0.0->wikipedia) (2021.5.30)\n",
      "Requirement already satisfied: charset-normalizer~=2.0.0 in c:\\users\\ramesh\\.conda\\envs\\pythonwithtensorflow\\lib\\site-packages (from requests<3.0.0,>=2.0.0->wikipedia) (2.0.4)\n",
      "Requirement already satisfied: idna<4,>=2.5 in c:\\users\\ramesh\\.conda\\envs\\pythonwithtensorflow\\lib\\site-packages (from requests<3.0.0,>=2.0.0->wikipedia) (3.2)\n",
      "Requirement already satisfied: soupsieve>1.2 in c:\\users\\ramesh\\.conda\\envs\\pythonwithtensorflow\\lib\\site-packages (from beautifulsoup4->wikipedia) (2.2.1)\n",
      "Note: you may need to restart the kernel to use updated packages.\n"
     ]
    }
   ],
   "source": [
    "pip install wikipedia"
   ]
  },
  {
   "cell_type": "code",
   "execution_count": 11,
   "metadata": {},
   "outputs": [
    {
     "name": "stdout",
     "output_type": "stream",
     "text": [
      "what is Gluten?\n",
      "noun | a protein substance that remains when starch is removed from cereal grains; gives cohesiveness to dough\n"
     ]
    }
   ],
   "source": [
    "# Python package supporting common text-to-speech engines\n",
    "import pyttsx3\n",
    "  \n",
    "# For understanding speech\n",
    "import speech_recognition as sr\n",
    "  \n",
    "# For fetching the answers \n",
    "# to computational queries\n",
    "import wolframalpha\n",
    "  \n",
    "# for fetching wikipedia articles\n",
    "import wikipedia\n",
    "  \n",
    "  \n",
    "# Function to search the query\n",
    "# that is either entered or spoken\n",
    "# by user\n",
    "def search(query):\n",
    "      \n",
    "    # try is used for searching with wolframAlpha\n",
    "    try:\n",
    "          \n",
    "        # Generate your App ID from WolframAlpha \n",
    "        app_id = \"LVQ2P9-2H7LKGGJP7\"\n",
    "        client = wolframalpha.Client(app_id)\n",
    "        res = client.query(query)\n",
    "        answer = next(res.results).text\n",
    "        print(answer)\n",
    "        SpeakText(\"Your answer is \" + answer)\n",
    "          \n",
    "    # If the query cannot be searched using \n",
    "    # WolframAlpha then it is searched in\n",
    "    # wikipedia\n",
    "    except:\n",
    "          \n",
    "        query = query.split(' ') \n",
    "        query = \" \".join(query[0:])\n",
    "          \n",
    "        SpeakText(\"I am searching for \" + query)\n",
    "        print(wikipedia.summary(query, sentences = 3))\n",
    "        SpeakText(wikipedia.summary(query, \n",
    "                                      sentences = 3))\n",
    "         \n",
    "      \n",
    "# Function to convert text to \n",
    "# speech \n",
    "def SpeakText(command): \n",
    "        \n",
    "    # Initialize the engine \n",
    "    engine = pyttsx3.init() \n",
    "    engine.say(command)  \n",
    "    engine.runAndWait()\n",
    "  \n",
    "      \n",
    "# Driver's code\n",
    "# input query from the user by \n",
    "# typing or by voice\n",
    "query = input()\n",
    "query = query.lower()\n",
    "  \n",
    "# if query is blank then user \n",
    "# is prompted to speak something.\n",
    "if query == '': \n",
    "    r = sr.Recognizer()\n",
    "  \n",
    "    # uses the default microphone\n",
    "    # as the source to record voice\n",
    "    with sr.Microphone() as source:  \n",
    "        print(\"Say Something \")\n",
    "  \n",
    "        # reduces the background disturbances\n",
    "        # and noise for 2 seconds\n",
    "        r.adjust_for_ambient_noise(source, 2)  \n",
    "          \n",
    "        # listening to source\n",
    "        audio = r.listen(source)  \n",
    "    try:\n",
    "        speech = r.recognize_google(audio)\n",
    "        search(speech)\n",
    "  \n",
    "    # Handling Exceptions if speech \n",
    "    # is not understood.\n",
    "    except sr.UnknownValueError:\n",
    "        print(\"Google Speech Recognition could not \\\n",
    "        understand audio\")\n",
    "  \n",
    "    # Couldn't handle requests, occurs \n",
    "    # mainly because of network errors\n",
    "    except sr.RequestError as e:  \n",
    "        print(\"Could not request results from Google \\\n",
    "        Speech Recognition service;{0}\".format(e))\n",
    "else:\n",
    "    search(query)\n",
    "   "
   ]
  },
  {
   "cell_type": "code",
   "execution_count": null,
   "metadata": {},
   "outputs": [],
   "source": []
  },
  {
   "cell_type": "code",
   "execution_count": null,
   "metadata": {},
   "outputs": [],
   "source": []
  }
 ],
 "metadata": {
  "kernelspec": {
   "display_name": "Python 3 (ipykernel)",
   "language": "python",
   "name": "python3"
  },
  "language_info": {
   "codemirror_mode": {
    "name": "ipython",
    "version": 3
   },
   "file_extension": ".py",
   "mimetype": "text/x-python",
   "name": "python",
   "nbconvert_exporter": "python",
   "pygments_lexer": "ipython3",
   "version": "3.8.11"
  }
 },
 "nbformat": 4,
 "nbformat_minor": 4
}
